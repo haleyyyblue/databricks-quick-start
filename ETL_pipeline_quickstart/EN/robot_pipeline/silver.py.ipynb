{
 "cells": [
  {
   "cell_type": "markdown",
   "metadata": {
    "application/vnd.databricks.v1+cell": {
     "cellMetadata": {},
     "inputWidgets": {},
     "nuid": "d507356f-1f60-4fc0-ae3d-63d019aea772",
     "showTitle": false,
     "tableResultSettingsMap": {},
     "title": ""
    }
   },
   "source": [
    "# Silver Layer Tables - Robot Events\n",
    "![](img/silver_diagram.png)\n",
    "\n",
    "This script defines **three Silver layer tables** in Databricks Delta Live Tables, built on top of the Bronze layer (`bronze_robot_events`).  \n",
    "They apply **data quality checks**, **cleansing**, and **schema flattening** for downstream analytics.\n",
    "\n",
    "---\n",
    "\n",
    "## 1. `silver_command_events`\n",
    "**Purpose:** Cleaned and filtered robot command execution events.  \n",
    "- **Quality rules**:\n",
    "  - Drop rows with invalid `duration_ms` (`> 0`)\n",
    "  - Ensure `battery_level` is between `0` and `100`\n",
    "- **Transformations**:\n",
    "  - Filter by `event_type = command_execution`\n",
    "  - Flatten nested fields (command details, location)\n",
    "  - Ensure valid timestamp\n",
    "- **Output columns**:\n",
    "  - `robot_id`, `timestamp`, `x`, `y`, `command_name`, `duration_ms`, `success`, `battery_level`, `obstacle_detected`\n",
    "\n",
    "---\n",
    "\n",
    "## 2. `silver_sensor_data`\n",
    "**Purpose:** Cleaned robot sensor readings.  \n",
    "- **Quality rules**:\n",
    "  - Ensure `battery_level` between `0` and `100`\n",
    "  - Ensure `battery_temp_c` between `0` and `50`\n",
    "- **Transformations**:\n",
    "  - Extract battery and LiDAR sensor data\n",
    "  - Ensure valid timestamp\n",
    "- **Output columns**:\n",
    "  - `robot_id`, `timestamp`, `battery_level`, `battery_temp_c`, `obstacle_detected`, `scan_points`\n",
    "\n",
    "---\n",
    "\n",
    "## 3. `silver_combined_events`\n",
    "**Purpose:** Unified table combining command, sensor, and location data.  \n",
    "- **Quality rules**:\n",
    "  - Drop rows with invalid `duration_ms` (`> 0`)\n",
    "  - Ensure `battery_level` between `0` and `100`\n",
    "- **Transformations**:\n",
    "  - Filter by `event_type = command_execution`\n",
    "  - Flatten and merge command + sensor + location fields\n",
    "  - Ensure valid timestamp\n",
    "- **Output columns**:\n",
    "  - `robot_id`, `timestamp`, `x`, `y`, `command_name`, `duration_ms`, `success`, `battery_level`, `obstacle_detected`\n",
    "\n",
    "---\n",
    "\n",
    "> ⚡ **Tip:** Update `CATALOG`, `BRONZE`, and `SILVER` variables to match your environment before running.\n"
   ]
  },
  {
   "cell_type": "code",
   "execution_count": 0,
   "metadata": {
    "application/vnd.databricks.v1+cell": {
     "cellMetadata": {},
     "inputWidgets": {},
     "nuid": "391a2761-c83c-4d46-b307-0c47feeb13a4",
     "showTitle": false,
     "tableResultSettingsMap": {},
     "title": ""
    }
   },
   "outputs": [],
   "source": [
    "import dlt\n",
    "from pyspark.sql.functions import col, when, to_timestamp\n",
    "\n",
    "CATALOG = \"haley_b_demo\"\n",
    "BRONZE = \"bronze\"\n",
    "SILVER = \"silver\"\n",
    "\n",
    "@dlt.table(name=f\"{CATALOG}.{SILVER}.silver_command_events\", comment=\"Cleaned and filtered command events\")\n",
    "@dlt.expect_or_drop(\"valid_duration\", \"duration_ms > 0\")\n",
    "@dlt.expect(\"battery_in_range\", \"battery_level BETWEEN 0 AND 100\")\n",
    "def silver_command_events():\n",
    "    df = dlt.read(f\"{CATALOG}.{BRONZE}.bronze_robot_events\")\n",
    "\n",
    "    # Filter\n",
    "    df = df.filter(col(\"event.event_type\") == \"command_execution\")\n",
    "\n",
    "    # Cleansing and flatten\n",
    "    df = df.withColumn(\"duration_ms\", when(col(\"event.command.duration_ms\") > 0, col(\"event.command.duration_ms\")).otherwise(None))\n",
    "    df = df.withColumn(\"battery_level\", when((col(\"sensors.battery.level_percent\") >= 0) & (col(\"sensors.battery.level_percent\") <= 100), col(\"sensors.battery.level_percent\")).otherwise(None))\n",
    "\n",
    "    # Timestamp filtering\n",
    "    df = df.filter(col(\"timestamp\").isNotNull())\n",
    "    df = df.withColumn(\"timestamp\", to_timestamp(col(\"timestamp\")))\n",
    "\n",
    "    return df.select(\n",
    "        \"robot_id\",\n",
    "        \"timestamp\",\n",
    "        \"location.x\",\n",
    "        \"location.y\",\n",
    "        col(\"event.command.name\").alias(\"command_name\"),\n",
    "        \"duration_ms\",\n",
    "        col(\"event.command.success\").alias(\"success\"),\n",
    "        \"battery_level\",\n",
    "        col(\"sensors.lidar.obstacle_detected\").alias(\"obstacle_detected\")\n",
    "    )"
   ]
  },
  {
   "cell_type": "code",
   "execution_count": 0,
   "metadata": {
    "application/vnd.databricks.v1+cell": {
     "cellMetadata": {},
     "inputWidgets": {},
     "nuid": "9a15a41e-c7f1-4bb9-9071-0c9b9f15e591",
     "showTitle": false,
     "tableResultSettingsMap": {},
     "title": ""
    }
   },
   "outputs": [],
   "source": [
    "CATALOG = \"haley_b_demo\"\n",
    "BRONZE = \"bronze\"\n",
    "SILVER = \"silver\"\n",
    "\n",
    "@dlt.table(name=f\"{CATALOG}.{SILVER}.silver_sensor_data\", comment=\"Cleaned robot sensor data\")\n",
    "@dlt.expect(\"battery_level_in_range\", \"battery_level BETWEEN 0 AND 100\")\n",
    "def silver_sensor_data():\n",
    "    df = dlt.read(f\"{CATALOG}.{BRONZE}.bronze_robot_events\")\n",
    "\n",
    "    df = df.withColumn(\"battery_level\", when((col(\"sensors.battery.level_percent\") >= 0) & (col(\"sensors.battery.level_percent\") <= 100), col(\"sensors.battery.level_percent\")).otherwise(None))\n",
    "    df = df.withColumn(\"battery_temp_c\", when((col(\"sensors.battery.temperature_c\") >= 0) & (col(\"sensors.battery.temperature_c\") <= 50), col(\"sensors.battery.temperature_c\")).otherwise(None))\n",
    "\n",
    "    df = df.filter(col(\"sensors.lidar.obstacle_detected\").isNotNull())\n",
    "    df = df.filter(col(\"timestamp\").isNotNull())\n",
    "    df = df.withColumn(\"timestamp\", to_timestamp(col(\"timestamp\")))\n",
    "\n",
    "    return df.select(\n",
    "        \"robot_id\",\n",
    "        \"timestamp\",\n",
    "        \"battery_level\",\n",
    "        \"battery_temp_c\",\n",
    "        col(\"sensors.lidar.obstacle_detected\").alias(\"obstacle_detected\"),\n",
    "        col(\"sensors.lidar.scan_points\").alias(\"scan_points\")\n",
    "    )"
   ]
  },
  {
   "cell_type": "code",
   "execution_count": 0,
   "metadata": {
    "application/vnd.databricks.v1+cell": {
     "cellMetadata": {},
     "inputWidgets": {},
     "nuid": "81df16d2-376c-48a3-a833-b1910a19c775",
     "showTitle": false,
     "tableResultSettingsMap": {},
     "title": ""
    }
   },
   "outputs": [],
   "source": [
    "CATALOG = \"haley_b_demo\"\n",
    "BRONZE = \"bronze\"\n",
    "SILVER = \"silver\"\n",
    "\n",
    "@dlt.table(name=f\"{CATALOG}.{SILVER}.silver_combined_events\", comment=\"Combined robot command + sensor + location data\")\n",
    "@dlt.expect_or_drop(\"valid_duration\", \"duration_ms > 0\")\n",
    "@dlt.expect(\"battery_level_in_range\", \"battery_level BETWEEN 0 AND 100\")\n",
    "def silver_combined_events():\n",
    "    df = dlt.read(f\"{CATALOG}.{BRONZE}.bronze_robot_events\")\n",
    "\n",
    "    df = df.filter(col(\"event.event_type\") == \"command_execution\")\n",
    "\n",
    "    df = df.withColumn(\"duration_ms\", when(col(\"event.command.duration_ms\") > 0, col(\"event.command.duration_ms\")).otherwise(None))\n",
    "    df = df.withColumn(\"battery_level\", when((col(\"sensors.battery.level_percent\") >= 0) & (col(\"sensors.battery.level_percent\") <= 100), col(\"sensors.battery.level_percent\")).otherwise(None))\n",
    "    df = df.filter(col(\"timestamp\").isNotNull())\n",
    "    df = df.withColumn(\"timestamp\", to_timestamp(col(\"timestamp\")))\n",
    "\n",
    "    return df.select(\n",
    "        \"robot_id\",\n",
    "        \"timestamp\",\n",
    "        col(\"location.x\").alias(\"x\"),\n",
    "        col(\"location.y\").alias(\"y\"),\n",
    "        col(\"event.command.name\").alias(\"command_name\"),\n",
    "        \"duration_ms\",\n",
    "        col(\"event.command.success\").alias(\"success\"),\n",
    "        \"battery_level\",\n",
    "        col(\"sensors.lidar.obstacle_detected\").alias(\"obstacle_detected\")\n",
    "    )"
   ]
  }
 ],
 "metadata": {
  "application/vnd.databricks.v1+notebook": {
   "computePreferences": null,
   "dashboards": [],
   "environmentMetadata": {
    "base_environment": "dbe_41a50460-c90b-4840-9288-afcb847395d5",
    "environment_version": "2"
   },
   "inputWidgetPreferences": null,
   "language": "python",
   "notebookMetadata": {
    "pythonIndentUnit": 2
   },
   "notebookName": "silver.py",
   "widgets": {}
  },
  "language_info": {
   "name": "python"
  }
 },
 "nbformat": 4,
 "nbformat_minor": 0
}
