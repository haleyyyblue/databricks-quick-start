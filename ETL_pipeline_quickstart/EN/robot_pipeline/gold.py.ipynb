{
 "cells": [
  {
   "cell_type": "markdown",
   "metadata": {
    "application/vnd.databricks.v1+cell": {
     "cellMetadata": {},
     "inputWidgets": {},
     "nuid": "dccddb86-2c86-44da-831d-53e0d173604c",
     "showTitle": false,
     "tableResultSettingsMap": {},
     "title": ""
    }
   },
   "source": [
    "# Gold Layer – Aggregated Metrics and Distance Calculation\n",
    "\n",
    "This layer produces **final analytical datasets** from the Silver layer.\n",
    "\n",
    "## 1. `gold_command_metrics_mv`\n",
    "- **Type:** Materialized View  \n",
    "- **Source:** `silver_combined_events`\n",
    "- **Purpose:**  \n",
    "  - Aggregates robot command data by **robot ID**, **date**, and **command name**.\n",
    "  - Calculates:\n",
    "    - `command_count` → number of executed commands\n",
    "    - `avg_duration_ms` → average execution time per command\n",
    "\n",
    "## 2. `gold_robot_distance`\n",
    "- **Type:** Table  \n",
    "- **Source:** `silver_combined_events`\n",
    "- **Purpose:**  \n",
    "  - Calculates **robot movement distance** using position changes over time.\n",
    "  - Uses a window function to compare each robot’s current and previous position.\n",
    "  - Computes `step_distance` with Euclidean distance formula.\n",
    "  - First row per robot defaults to distance = 0.\n"
   ]
  },
  {
   "cell_type": "code",
   "execution_count": 0,
   "metadata": {
    "application/vnd.databricks.v1+cell": {
     "cellMetadata": {},
     "inputWidgets": {},
     "nuid": "223dfd16-940a-4c75-a0f4-e12a9087d04c",
     "showTitle": false,
     "tableResultSettingsMap": {},
     "title": ""
    }
   },
   "outputs": [],
   "source": [
    "import dlt\n",
    "from pyspark.sql.functions import col, avg, count, sum as spark_sum, lag, sqrt, pow, to_date\n",
    "from pyspark.sql.window import Window\n",
    "\n",
    "CATALOG = \"haley_b_demo\"\n",
    "SILVER = \"silver\"\n",
    "GOLD = \"gold\"\n",
    "\n",
    "@dlt.materialized_view(name=f\"{CATALOG}.{GOLD}.gold_command_metrics_mv\")\n",
    "def gold_command_metrics_mv():\n",
    "    df = dlt.read(f\"{CATALOG}.{SILVER}.silver_combined_events\")\n",
    "    df = df.filter(col(\"command_name\").isNotNull())\n",
    "    df = df.withColumn(\"date\", to_date(\"timestamp\"))\n",
    "    \n",
    "    return df.groupBy(\"robot_id\", \"date\", \"command_name\").agg(\n",
    "        count(\"*\").alias(\"command_count\"),\n",
    "        avg(\"duration_ms\").alias(\"avg_duration_ms\")\n",
    "    )"
   ]
  },
  {
   "cell_type": "code",
   "execution_count": 0,
   "metadata": {
    "application/vnd.databricks.v1+cell": {
     "cellMetadata": {},
     "inputWidgets": {},
     "nuid": "c1914ce9-5bf4-4475-bbc2-c5500db19929",
     "showTitle": false,
     "tableResultSettingsMap": {},
     "title": ""
    }
   },
   "outputs": [],
   "source": [
    "import dlt\n",
    "from pyspark.sql.window import Window\n",
    "from pyspark.sql.functions import lag, sqrt, pow, col\n",
    "\n",
    "CATALOG = \"haley_b_demo\"\n",
    "SILVER = \"silver\"\n",
    "GOLD = \"gold\"\n",
    "\n",
    "@dlt.table(\n",
    "    name=f\"{CATALOG}.{GOLD}.gold_robot_distance\",\n",
    "    comment=\"Calculate robot movement distance based on position changes (window function)\"\n",
    ")\n",
    "def gold_robot_distance():\n",
    "    df = dlt.read(f\"{CATALOG}.{SILVER}.silver_combined_events\")\n",
    "\n",
    "    # Window for ordering robot movements\n",
    "    w = Window.partitionBy(\"robot_id\").orderBy(\"timestamp\")\n",
    "\n",
    "    # Calculate previous position\n",
    "    df = df.withColumn(\"prev_x\", lag(\"x\").over(w))\n",
    "    df = df.withColumn(\"prev_y\", lag(\"y\").over(w))\n",
    "\n",
    "    # Calculate step_distance (Euclidean distance)\n",
    "    df = df.withColumn(\n",
    "        \"step_distance\",\n",
    "        sqrt(\n",
    "            pow(col(\"x\") - col(\"prev_x\"), 2) +\n",
    "            pow(col(\"y\") - col(\"prev_y\"), 2)\n",
    "        )\n",
    "    )\n",
    "\n",
    "    # For the first row, previous value does not exist, so distance = 0\n",
    "    df = df.fillna({\"step_distance\": 0})\n",
    "\n",
    "    return df.select(\n",
    "        \"robot_id\",\n",
    "        \"timestamp\",\n",
    "        \"x\", \"y\",\n",
    "        \"step_distance\"\n",
    "    )"
   ]
  }
 ],
 "metadata": {
  "application/vnd.databricks.v1+notebook": {
   "computePreferences": null,
   "dashboards": [],
   "environmentMetadata": {
    "base_environment": "dbe_41a50460-c90b-4840-9288-afcb847395d5",
    "environment_version": "2"
   },
   "inputWidgetPreferences": null,
   "language": "python",
   "notebookMetadata": {
    "pythonIndentUnit": 2
   },
   "notebookName": "gold.py",
   "widgets": {}
  },
  "language_info": {
   "name": "python"
  }
 },
 "nbformat": 4,
 "nbformat_minor": 0
}
