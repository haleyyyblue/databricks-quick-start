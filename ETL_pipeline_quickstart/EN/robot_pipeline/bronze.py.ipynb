{
 "cells": [
  {
   "cell_type": "markdown",
   "metadata": {
    "application/vnd.databricks.v1+cell": {
     "cellMetadata": {},
     "inputWidgets": {},
     "nuid": "91637cfa-ee57-4504-a7ec-59ad0c640668",
     "showTitle": false,
     "tableResultSettingsMap": {},
     "title": ""
    }
   },
   "source": [
    "# Bronze Table - Robot Events Ingestion\n",
    "![](img/bronze.png)\n",
    "\n",
    "This script uses the **Databricks Lakeflow Declarative Pipeline**  \n",
    "to stream JSON files from the specified volume path (`data_path`) into a **bronze table**.\n",
    "\n",
    "## Key Features\n",
    "- **Lakeflow Declarative Pipeline table name**: `bronze_robot_events`\n",
    "- **Comment**: `\"Raw ingested robot events\"`\n",
    "- **Data source**: JSON files in the `data_path` directory (based on Autoloader)\n",
    "- **Schema inference**: Uses `cloudFiles.inferColumnTypes = true` option\n",
    "\n",
    "## Code Explanation\n",
    "```python\n",
    "@dlt.table(name=\"bronze_robot_events\", comment=\"Raw ingested robot events\")\n",
    "def bronze_robot_events():\n",
    "    return (\n",
    "        spark.readStream.format(\"cloudFiles\")\n",
    "        .option(\"cloudFiles.format\", \"json\")\n",
    "        .option(\"cloudFiles.inferColumnTypes\", \"true\")\n",
    "        .load(data_path)\n",
    "    )\n",
    "```\n",
    "@dlt.table(...) : Decorator to create a bronze table in the Lakeflow Declarative pipeline\n",
    "\n",
    ".format(\"cloudFiles\") : Reads files in streaming mode using Databricks Autoloader\n",
    "\n",
    ".option(\"cloudFiles.format\", \"json\") : Specifies the input data format\n",
    "\n",
    ".option(\"cloudFiles.inferColumnTypes\", \"true\") : Automatically infers column types\n",
    "\n",
    ".load(data_path) : Loads data from the specified path in streaming mode\n",
    "\n",
    "## How to use\n",
    "Change `data_path` to your own volume path\n",
    "\n",
    "Register and run this script in your Lakeflow Declarative pipeline"
   ]
  },
  {
   "cell_type": "code",
   "execution_count": 0,
   "metadata": {
    "application/vnd.databricks.v1+cell": {
     "cellMetadata": {},
     "inputWidgets": {},
     "nuid": "c0e35575-773d-4163-b7a5-bf91f15bf6da",
     "showTitle": false,
     "tableResultSettingsMap": {},
     "title": ""
    }
   },
   "outputs": [],
   "source": [
    "import dlt\n",
    "from pyspark.sql.functions import input_file_name\n",
    "\n",
    "# Please change `data_path` to your own volume path.\n",
    "data_path = \"/Volumes/haley_b_demo/bronze/managed_volume/sample_json_output/\"\n",
    "\n",
    "@dlt.table(name=\"bronze_robot_events\", comment=\"Raw ingested robot events\")\n",
    "def bronze_robot_events():\n",
    "    return (\n",
    "        spark.readStream.format(\"cloudFiles\")\n",
    "        .option(\"cloudFiles.format\", \"json\")\n",
    "        .option(\"cloudFiles.inferColumnTypes\", \"true\")\n",
    "        .load(data_path)\n",
    "    )"
   ]
  }
 ],
 "metadata": {
  "application/vnd.databricks.v1+notebook": {
   "computePreferences": null,
   "dashboards": [],
   "environmentMetadata": {
    "base_environment": "dbe_41a50460-c90b-4840-9288-afcb847395d5",
    "environment_version": "2"
   },
   "inputWidgetPreferences": null,
   "language": "python",
   "notebookMetadata": {
    "pythonIndentUnit": 2
   },
   "notebookName": "bronze.py",
   "widgets": {}
  },
  "language_info": {
   "name": "python"
  }
 },
 "nbformat": 4,
 "nbformat_minor": 0
}
