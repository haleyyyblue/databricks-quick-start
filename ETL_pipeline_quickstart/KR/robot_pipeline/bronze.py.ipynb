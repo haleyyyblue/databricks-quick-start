{
 "cells": [
  {
   "cell_type": "markdown",
   "metadata": {
    "application/vnd.databricks.v1+cell": {
     "cellMetadata": {},
     "inputWidgets": {},
     "nuid": "91637cfa-ee57-4504-a7ec-59ad0c640668",
     "showTitle": false,
     "tableResultSettingsMap": {},
     "title": ""
    }
   },
   "source": [
    "# 브론즈 테이블 - 로봇 이벤트 적재\n",
    "![](img/bronze.png)\n",
    "\n",
    "이 스크립트는 **Databricks Lakeflow Declarative Pipeline**을 사용하여  \n",
    "지정된 볼륨 경로(`data_path`)의 JSON 파일을 **브론즈 테이블**로 스트리밍합니다.\n",
    "\n",
    "## 주요 특징\n",
    "- **Lakeflow Declarative Pipeline 테이블 이름**: `bronze_robot_events`\n",
    "- **설명**: `\"Raw ingested robot events\"`\n",
    "- **데이터 소스**: `data_path` 디렉토리의 JSON 파일 (Autoloader 기반)\n",
    "- **스키마 추론**: `cloudFiles.inferColumnTypes = true` 옵션 사용\n",
    "\n",
    "## 코드 설명\n",
    "```python\n",
    "@dlt.table(name=\"bronze_robot_events\", comment=\"Raw ingested robot events\")\n",
    "def bronze_robot_events():\n",
    "    return (\n",
    "        spark.readStream.format(\"cloudFiles\")\n",
    "        .option(\"cloudFiles.format\", \"json\")\n",
    "        .option(\"cloudFiles.inferColumnTypes\", \"true\")\n",
    "        .load(data_path)\n",
    "    )\n",
    "```\n",
    "@dlt.table(...) : Lakeflow Declarative Pipeline에서 브론즈 테이블을 생성하는 데코레이터\n",
    "\n",
    ".format(\"cloudFiles\") : Databricks Autoloader를 사용하여 스트리밍 모드로 파일을 읽음\n",
    "\n",
    ".option(\"cloudFiles.format\", \"json\") : 입력 데이터 포맷 지정\n",
    "\n",
    ".option(\"cloudFiles.inferColumnTypes\", \"true\") : 컬럼 타입 자동 추론\n",
    "\n",
    ".load(data_path) : 지정된 경로에서 스트리밍 모드로 데이터 적재\n",
    "\n",
    "## 사용 방법\n",
    "`data_path`를 본인의 볼륨 경로로 변경하세요.\n",
    "\n",
    "이 스크립트를 Lakeflow Declarative 파이프라인에 등록하고 실행하세요."
   ]
  },
  {
   "cell_type": "code",
   "execution_count": 0,
   "metadata": {
    "application/vnd.databricks.v1+cell": {
     "cellMetadata": {},
     "inputWidgets": {},
     "nuid": "c0e35575-773d-4163-b7a5-bf91f15bf6da",
     "showTitle": false,
     "tableResultSettingsMap": {},
     "title": ""
    }
   },
   "outputs": [],
   "source": [
    "import dlt\n",
    "from pyspark.sql.functions import input_file_name\n",
    "\n",
    "# Please change `data_path` to your own volume path.\n",
    "data_path = \"/Volumes/haley_b_demo/bronze/managed_volume/sample_json_output/\"\n",
    "\n",
    "@dlt.table(name=\"bronze_robot_events\", comment=\"Raw ingested robot events\")\n",
    "def bronze_robot_events():\n",
    "    return (\n",
    "        spark.readStream.format(\"cloudFiles\")\n",
    "        .option(\"cloudFiles.format\", \"json\")\n",
    "        .option(\"cloudFiles.inferColumnTypes\", \"true\")\n",
    "        .load(data_path)\n",
    "    )"
   ]
  }
 ],
 "metadata": {
  "application/vnd.databricks.v1+notebook": {
   "computePreferences": null,
   "dashboards": [],
   "environmentMetadata": {
    "base_environment": "dbe_41a50460-c90b-4840-9288-afcb847395d5",
    "environment_version": "2"
   },
   "inputWidgetPreferences": null,
   "language": "python",
   "notebookMetadata": {
    "pythonIndentUnit": 2
   },
   "notebookName": "bronze.py",
   "widgets": {}
  },
  "language_info": {
   "name": "python"
  }
 },
 "nbformat": 4,
 "nbformat_minor": 0
}
