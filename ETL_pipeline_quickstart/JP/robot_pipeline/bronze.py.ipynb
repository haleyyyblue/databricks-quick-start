{
 "cells": [
  {
   "cell_type": "markdown",
   "metadata": {
    "application/vnd.databricks.v1+cell": {
     "cellMetadata": {},
     "inputWidgets": {},
     "nuid": "91637cfa-ee57-4504-a7ec-59ad0c640668",
     "showTitle": false,
     "tableResultSettingsMap": {},
     "title": ""
    }
   },
   "source": [
    "# ブロンズテーブル - ロボットイベントの取り込み\n",
    "![](img/bronze.png)\n",
    "\n",
    "このスクリプトは**Databricks Lakeflow Declarative Pipeline**を使用して、  \n",
    "指定されたボリュームパス（`data_path`）からJSONファイルをストリーミングし、**ブロンズテーブル**に取り込みます。\n",
    "\n",
    "## 主な特徴\n",
    "- **Lakeflow Declarative Pipeline テーブル名**: `bronze_robot_events`\n",
    "- **コメント**: `\"Raw ingested robot events\"`\n",
    "- **データソース**: `data_path`ディレクトリ内のJSONファイル（Autoloaderベース）\n",
    "- **スキーマ推論**: `cloudFiles.inferColumnTypes = true`オプションを使用\n",
    "\n",
    "## コードの説明\n",
    "python\n",
    "@dlt.table(name=\"bronze_robot_events\", comment=\"Raw ingested robot events\")\n",
    "def bronze_robot_events():\n",
    "    return (\n",
    "        spark.readStream.format(\"cloudFiles\")\n",
    "        .option(\"cloudFiles.format\", \"json\")\n",
    "        .option(\"cloudFiles.inferColumnTypes\", \"true\")\n",
    "        .load(data_path)\n",
    "    )\n",
    "\n",
    "@dlt.table(...) : Lakeflow Declarative Pipelineでブロンズテーブルを作成するデコレーター\n",
    "\n",
    ".format(\"cloudFiles\") : Databricks Autoloaderを使ってストリーミングモードでファイルを読み込む\n",
    "\n",
    ".option(\"cloudFiles.format\", \"json\") : 入力データフォーマットを指定\n",
    "\n",
    ".option(\"cloudFiles.inferColumnTypes\", \"true\") : カラム型を自動推論\n",
    "\n",
    ".load(data_path) : 指定したパスからストリーミングモードでデータを読み込む\n",
    "\n",
    "## 使い方\n",
    "`data_path`を自分のボリュームパスに変更してください\n",
    "\n",
    "このスクリプトをLakeflow Declarative Pipelineに登録して実行してください"
   ]
  },
  {
   "cell_type": "code",
   "execution_count": 0,
   "metadata": {
    "application/vnd.databricks.v1+cell": {
     "cellMetadata": {},
     "inputWidgets": {},
     "nuid": "c0e35575-773d-4163-b7a5-bf91f15bf6da",
     "showTitle": false,
     "tableResultSettingsMap": {},
     "title": ""
    }
   },
   "outputs": [],
   "source": [
    "import dlt\n",
    "from pyspark.sql.functions import input_file_name\n",
    "\n",
    "# Please change `data_path` to your own volume path.\n",
    "data_path = \"/Volumes/haley_b_demo/bronze/managed_volume/sample_json_output/\"\n",
    "\n",
    "@dlt.table(name=\"bronze_robot_events\", comment=\"Raw ingested robot events\")\n",
    "def bronze_robot_events():\n",
    "    return (\n",
    "        spark.readStream.format(\"cloudFiles\")\n",
    "        .option(\"cloudFiles.format\", \"json\")\n",
    "        .option(\"cloudFiles.inferColumnTypes\", \"true\")\n",
    "        .load(data_path)\n",
    "    )"
   ]
  }
 ],
 "metadata": {
  "application/vnd.databricks.v1+notebook": {
   "computePreferences": null,
   "dashboards": [],
   "environmentMetadata": {
    "base_environment": "dbe_41a50460-c90b-4840-9288-afcb847395d5",
    "environment_version": "2"
   },
   "inputWidgetPreferences": null,
   "language": "python",
   "notebookMetadata": {
    "pythonIndentUnit": 2
   },
   "notebookName": "bronze.py",
   "widgets": {}
  },
  "language_info": {
   "name": "python"
  }
 },
 "nbformat": 4,
 "nbformat_minor": 0
}
